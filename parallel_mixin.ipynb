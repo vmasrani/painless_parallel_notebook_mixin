{
 "cells": [
  {
   "cell_type": "code",
   "execution_count": 1,
   "metadata": {},
   "outputs": [],
   "source": [
    "from dask.distributed import Client, LocalCluster, wait\n",
    "import time"
   ]
  },
  {
   "cell_type": "code",
   "execution_count": 2,
   "metadata": {},
   "outputs": [],
   "source": [
    "# We wrap the clients in a class to prevent\n",
    "# double init\n",
    "class MyClient:\n",
    "    mp = None\n",
    "    mt = None\n",
    "    modules = None \n",
    "    started = False\n",
    "    \n",
    "def init_parallel(module_names=None):\n",
    "    if MyClient.started is False:\n",
    "        print(\"Starting multiprocess cluster...\")\n",
    "        MyClient.mp = Client(scheduler_port=0, dashboard_address=None)\n",
    "        print(\"Starting multithread cluster...\")\n",
    "        MyClient.mt = Client(scheduler_port=0, dashboard_address=None, processes=False)        \n",
    "        MyClient.started = True\n",
    "        if module_names is not None:\n",
    "            for name in module_names:\n",
    "                MyClient.mp.upload_file(name)\n",
    "                MyClient.mt.upload_file(name)\n",
    "    else:\n",
    "        print(\"Multithread cluster already started\")"
   ]
  },
  {
   "cell_type": "code",
   "execution_count": 3,
   "metadata": {},
   "outputs": [],
   "source": [
    "# User decorators\n",
    "def profile(array_input):\n",
    "    def profile_decorator(f):\n",
    "        def profile_wrapper(*args, **kwargs):\n",
    "            # Stats\n",
    "            p_workers = len(MyClient.mp.cluster.workers)\n",
    "            p_cores = MyClient.mp.cluster.worker_kwargs['ncores']\n",
    "            \n",
    "            t_workers = len(MyClient.mt.cluster.workers)\n",
    "            t_cores = MyClient.mt.cluster.worker_kwargs['ncores']\n",
    "            \n",
    "            print(\"---------Parallel vs Sequential Profile--------\")\n",
    "            print(\"Function: {}\".format(f.__name__))\n",
    "            print(\"Input length: {}\".format(len(array_input)))\n",
    "            print(\"Input type: {}\".format(type(array_input[0])))\n",
    "            print(\"Timing...\")\n",
    "            seq = MyClient.mp.submit(_time_sequential_map, f, array_input)\n",
    "            seq = seq.result()\n",
    "            par_processes = _time_parallel_map(f, array_input)\n",
    "            par_threads = _time_parallel_map(f, array_input, threads=False)\n",
    "            print(\"========================\")\n",
    "            print(\"Sequential time: {:.4f}s\".format(seq))\n",
    "            print(\"Multiprocessing time: {:.4f}s (~{:.4f}x speedup, {} workers, {} cores/worker)\".format(par_processes, seq/par_processes, p_workers, p_cores))\n",
    "            print(\"Multithreading time: {:.4f}s (~{:.4f}x speedup, {} workers, {} cores/worker)\".format(par_threads, seq/par_threads, t_workers, t_cores))\n",
    "        return profile_wrapper\n",
    "    return profile_decorator\n",
    "\n",
    "def concurrent(map=False, threads=False):\n",
    "    def concurrent_decorator(func):\n",
    "        def wrapper_concurrent(*args, **kwargs):\n",
    "            client = MyClient.mt if threads else MyClient.mp\n",
    "            if map:\n",
    "                res = client.map(func, *args, **kwargs)\n",
    "            else:\n",
    "                res = client.submit(func, *args, **kwargs)\n",
    "            return res\n",
    "        return wrapper_concurrent\n",
    "    return concurrent_decorator"
   ]
  },
  {
   "cell_type": "code",
   "execution_count": 5,
   "metadata": {},
   "outputs": [],
   "source": [
    "# Helpers\n",
    "def _time_sequential_map(f, array):\n",
    "    ts = time.time()\n",
    "    for a in array:\n",
    "        result = f(a)\n",
    "    te = time.time()\n",
    "    time_ms = (te - ts)\n",
    "    return time_ms\n",
    "\n",
    "def _time_parallel_map(f, array, threads=False):\n",
    "    ts = time.time()\n",
    "    client = MyClient.mt if threads else MyClient.mp\n",
    "    futures = client.map(f, array)\n",
    "    wait(futures)\n",
    "    te = time.time()\n",
    "    time_ms = (te - ts)\n",
    "    return time_ms"
   ]
  }
 ],
 "metadata": {
  "kernelspec": {
   "display_name": "Python 3",
   "language": "python",
   "name": "python3"
  },
  "language_info": {
   "codemirror_mode": {
    "name": "ipython",
    "version": 3
   },
   "file_extension": ".py",
   "mimetype": "text/x-python",
   "name": "python",
   "nbconvert_exporter": "python",
   "pygments_lexer": "ipython3",
   "version": "3.6.5"
  }
 },
 "nbformat": 4,
 "nbformat_minor": 2
}
