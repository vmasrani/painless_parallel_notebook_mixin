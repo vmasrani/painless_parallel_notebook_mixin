{
 "cells": [
  {
   "cell_type": "markdown",
   "metadata": {},
   "source": [
    "## Introduction"
   ]
  },
  {
   "cell_type": "markdown",
   "metadata": {},
   "source": [
    "This notebook serves as a demonstration of how one might use parallel_plugin.ipynb in a realistic data science scenario - ie. where the notebook uses external files, classes, global functions/variables, and automatic differentiation. \n",
    "\n",
    "Consider the problem of bayesian linear regression (cf. Bishop 3.3). We will first learn the mean via metropolis hastings and variational inference."
   ]
  },
  {
   "cell_type": "code",
   "execution_count": 1,
   "metadata": {},
   "outputs": [],
   "source": [
    "import matplotlib.pyplot as plt\n",
    "import torch\n",
    "from torch import optim\n",
    "import numpy as np\n",
    "import pandas as pd\n",
    "from torch.distributions.normal import Normal\n",
    "import numpy.random as npr\n",
    "from models import LinRegGuide, Elbo\n",
    "from helpers import seed_all, linear_regression_data"
   ]
  },
  {
   "cell_type": "code",
   "execution_count": 2,
   "metadata": {},
   "outputs": [],
   "source": [
    "# Metropolis sampling (symmetric proposal) for given log-target distribution\n",
    "def mhsample(x0, n, logtarget, drawproposal):\n",
    "    x = x0\n",
    "    xs = torch.zeros(x0.shape[0], n)\n",
    "    accepts = 0\n",
    "    for i in range(n):\n",
    "        if (i % 1000) == 0:\n",
    "            print(\"Steps: {}\".format(i))\n",
    "        x_prop = drawproposal(x)\n",
    "        if np.log(npr.rand()) < logtarget(x_prop) - logtarget(x):\n",
    "            x = x_prop\n",
    "            accepts += 1\n",
    "        xs[:, i] = x\n",
    "    print(\"Sampler acceptance rate:\", accepts/n)\n",
    "    return xs"
   ]
  },
  {
   "cell_type": "code",
   "execution_count": 3,
   "metadata": {},
   "outputs": [],
   "source": [
    "offset = 0\n",
    "N = 1000\n",
    "D = 2\n",
    "X, y, w_true = linear_regression_data(N, D, 10)\n",
    "proposal_std = 0.01"
   ]
  },
  {
   "cell_type": "code",
   "execution_count": 4,
   "metadata": {},
   "outputs": [],
   "source": [
    "def run_metropolis_hastings(ITERS):\n",
    "    seed_all(0)\n",
    "    \n",
    "    model = LinRegGuide(D)\n",
    "\n",
    "    target = lambda w: model.mh_target(X, y, w)\n",
    "    proposal = lambda w: w + proposal_std*torch.randn(D)\n",
    "\n",
    "    x0 = torch.zeros(D)\n",
    "    \n",
    "    xs = mhsample(x0, ITERS, target, proposal)\n",
    "    \n",
    "    # Discard the first half of samples as warm-up\n",
    "    xs = xs[:, xs.shape[1]//2:]\n",
    "    xs = pd.DataFrame(xs.numpy().T)\n",
    "\n",
    "    w_hat = xs.mean().values\n",
    "    RMSE = np.sqrt(((w_hat - w_true.numpy())**2).mean())\n",
    "    return w_hat, RMSE\n",
    "    \n",
    "def run_variational_inference(EPOCHS):\n",
    "    seed_all(0)\n",
    "    model = LinRegGuide(D)\n",
    "    criterion = Elbo(model)\n",
    "    opt = optim.SGD(model.parameters(), lr=1e-5, momentum=0.9)\n",
    "\n",
    "    for epoch in range(EPOCHS):\n",
    "        opt.zero_grad()\n",
    "        output = model(X)\n",
    "        loss = criterion(output, y)\n",
    "        loss.backward()\n",
    "        opt.step()\n",
    "\n",
    "        if epoch % 10 == 0:\n",
    "            print(epoch, loss.item())\n",
    "            \n",
    "    w_hat = model.mu.squeeze().detach().numpy()\n",
    "    RMSE = np.sqrt(((w_hat - w_true.numpy())**2).mean())\n",
    "    return w_hat, RMSE"
   ]
  },
  {
   "cell_type": "code",
   "execution_count": 5,
   "metadata": {},
   "outputs": [
    {
     "name": "stdout",
     "output_type": "stream",
     "text": [
      "Steps: 0\n",
      "Steps: 1000\n",
      "Steps: 2000\n",
      "Steps: 3000\n",
      "Steps: 4000\n",
      "Steps: 5000\n",
      "Steps: 6000\n",
      "Steps: 7000\n",
      "Steps: 8000\n",
      "Steps: 9000\n",
      "Steps: 10000\n",
      "Steps: 11000\n",
      "Steps: 12000\n",
      "Steps: 13000\n",
      "Steps: 14000\n",
      "Steps: 15000\n",
      "Steps: 16000\n",
      "Steps: 17000\n",
      "Steps: 18000\n",
      "Steps: 19000\n",
      "Sampler acceptance rate: 0.7995\n",
      "The true mean is: [10.885099  8.121346]\n",
      "The mean learned w/ metropolis hastings is: [10.872889  8.085914]\n",
      "RMSE: 0.026500842\n"
     ]
    }
   ],
   "source": [
    "training_epochs = 20000\n",
    "\n",
    "w_hat, RMSE = run_metropolis_hastings(training_epochs)\n",
    "print(\"The true mean is:\", w_true.numpy())\n",
    "print(\"The mean learned w/ metropolis hastings is:\", w_hat)\n",
    "print(\"RMSE:\", RMSE)"
   ]
  },
  {
   "cell_type": "code",
   "execution_count": 6,
   "metadata": {},
   "outputs": [
    {
     "name": "stdout",
     "output_type": "stream",
     "text": [
      "0 109298.5703125\n",
      "10 27935.458984375\n",
      "20 2408.353515625\n",
      "30 3057.296875\n",
      "40 3071.631591796875\n",
      "50 1696.128173828125\n",
      "60 1527.938232421875\n",
      "70 1543.9149169921875\n",
      "80 1573.55859375\n",
      "90 1533.380615234375\n",
      "100 1524.203369140625\n",
      "110 1537.7313232421875\n",
      "120 1522.780029296875\n",
      "130 1540.8355712890625\n",
      "140 1526.2310791015625\n",
      "150 1524.8560791015625\n",
      "160 1525.22705078125\n",
      "170 1528.9388427734375\n",
      "180 1521.654541015625\n",
      "190 1524.3226318359375\n",
      "The true mean is: [10.885099  8.121346]\n",
      "The mean learned w/ variational inference is: [10.862334  8.09374 ]\n",
      "RMSE: 0.025301624\n"
     ]
    }
   ],
   "source": [
    "training_epochs = 200\n",
    "\n",
    "w_hat, RMSE = run_variational_inference(training_epochs)\n",
    "print(\"The true mean is:\", w_true.numpy())\n",
    "print(\"The mean learned w/ variational inference is:\", w_hat)\n",
    "print(\"RMSE:\", RMSE)"
   ]
  },
  {
   "cell_type": "markdown",
   "metadata": {},
   "source": [
    "## Using parallel_plugin.ipydb"
   ]
  },
  {
   "cell_type": "markdown",
   "metadata": {},
   "source": [
    "Now, let's say we want to plot RMSE as a function of training iterations. This would normally require we rewrite the above functions and run them sequentially, once for each value of 'training_epoch'. Instead lets see how we can use the parallel_mixin to make this easier."
   ]
  },
  {
   "cell_type": "markdown",
   "metadata": {},
   "source": [
    "First, we load the plugin using Jupyter's magic command 'run', and initialize by passing in the names of any external files we need."
   ]
  },
  {
   "cell_type": "code",
   "execution_count": 8,
   "metadata": {},
   "outputs": [
    {
     "name": "stdout",
     "output_type": "stream",
     "text": [
      "Starting multiprocess cluster...\n",
      "Multiprocess cluster started w/ 4 workers (2 cores each)\n",
      "Starting multithread cluster...\n",
      "Multithread cluster started w/ 1 workers (8 cores each)\n",
      "\n",
      "        Parallel Plugin Loaded. You can now decorate functions with @profile(profile_array) \n",
      "        and @parallel(map=True, threads=True, background=False). MyClient and get_results(futures)\n",
      "        have also been loaded into your namespace.\n",
      "        \n"
     ]
    }
   ],
   "source": [
    "%run parallel_plugin.ipynb\n",
    "init_parallel(['models.py', 'helpers.py'])"
   ]
  },
  {
   "cell_type": "markdown",
   "metadata": {},
   "source": [
    "Before running the methods in parallel we first profile them to see what kind of speed up we can expect. Normally one would decorate the existing functions, but for demonstration purposes I'll duplicate the functions below.\n",
    "\n",
    "The @profile argument takes the range of values you expect to pass in to your parallelized function.  "
   ]
  },
  {
   "cell_type": "code",
   "execution_count": 11,
   "metadata": {},
   "outputs": [],
   "source": [
    "@profile(range(2000, 20000, 2000))\n",
    "def run_metropolis_hastings(ITERS):\n",
    "    seed_all(0)\n",
    "    \n",
    "    model = LinRegGuide(D)\n",
    "\n",
    "    target = lambda w: model.mh_target(X, y, w)\n",
    "    proposal = lambda w: w + proposal_std*torch.randn(D)\n",
    "\n",
    "    x0 = torch.zeros(D)\n",
    "    \n",
    "    xs = mhsample(x0, ITERS, target, proposal)\n",
    "    \n",
    "    # Discard the first half of samples as warm-up\n",
    "    xs = xs[:, xs.shape[1]//2:]\n",
    "    xs = pd.DataFrame(xs.numpy().T)\n",
    "\n",
    "    w_hat = xs.mean().values\n",
    "    RMSE = np.sqrt(((w_hat - w_true.numpy())**2).mean())\n",
    "    return w_hat, RMSE\n",
    "    \n",
    "@profile(range(1, 100, 10))\n",
    "def run_variational_inference(EPOCHS):\n",
    "    seed_all(0)\n",
    "    model = LinRegGuide(D)\n",
    "    criterion = Elbo(model)\n",
    "    opt = optim.SGD(model.parameters(), lr=1e-5, momentum=0.9)\n",
    "\n",
    "    for epoch in range(EPOCHS):\n",
    "        opt.zero_grad()\n",
    "        output = model(X)\n",
    "        loss = criterion(output, y)\n",
    "        loss.backward()\n",
    "        opt.step()\n",
    "\n",
    "        if epoch % 10 == 0:\n",
    "            print(epoch, loss.item())\n",
    "            \n",
    "    w_hat = model.mu.squeeze().detach().numpy()\n",
    "    RMSE = np.sqrt(((w_hat - w_true.numpy())**2).mean())\n",
    "    return w_hat, RMSE"
   ]
  },
  {
   "cell_type": "markdown",
   "metadata": {},
   "source": [
    "We now call the decorated functions without arguments. This takes a little while because we have to first run the sequential version as a baseline:"
   ]
  },
  {
   "cell_type": "code",
   "execution_count": 10,
   "metadata": {},
   "outputs": [
    {
     "name": "stdout",
     "output_type": "stream",
     "text": [
      "---------Parallel vs Sequential Profile--------\n",
      "Function: run_metropolis_hastings\n",
      "Input length: 9\n",
      "Input type: <class 'int'>\n",
      "Timing...\n",
      "========================\n",
      "Sequential time: 38.4299s\n",
      "Multiprocessing time: 22.4877s (~1.7089x speedup, 4 workers, 2 cores/worker)\n",
      "Multithreading time: 21.9990s (~1.7469x speedup, 1 workers, 8 cores/worker)\n"
     ]
    }
   ],
   "source": [
    "run_metropolis_hastings()"
   ]
  },
  {
   "cell_type": "code",
   "execution_count": 12,
   "metadata": {},
   "outputs": [
    {
     "name": "stdout",
     "output_type": "stream",
     "text": [
      "---------Parallel vs Sequential Profile--------\n",
      "Function: run_variational_inference\n",
      "Input length: 10\n",
      "Input type: <class 'int'>\n",
      "Timing...\n",
      "========================\n",
      "Sequential time: 0.3236s\n",
      "Multiprocessing time: 0.5825s (~0.5556x speedup, 4 workers, 2 cores/worker)\n",
      "Multithreading time: 0.5703s (~0.5675x speedup, 1 workers, 8 cores/worker)\n"
     ]
    }
   ],
   "source": [
    "run_variational_inference()"
   ]
  },
  {
   "cell_type": "markdown",
   "metadata": {},
   "source": [
    "The profiler returns some useful information. We see we get about a 1.5x speedup by parallelizing run_metropolis_hastings() and the difference between threads and processes is negligible (rerunning the profiler confirms this). \n",
    "\n",
    "We also see that parallelizing actually hurts performance with run_variational_inference() due to overhead costs.\n",
    "\n",
    "With this we decide to parallelize the run_metropolis_hastings() function:"
   ]
  },
  {
   "cell_type": "code",
   "execution_count": 13,
   "metadata": {},
   "outputs": [],
   "source": [
    "@parallel(map=True, background=False)\n",
    "def run_metropolis_hastings(ITERS):\n",
    "    seed_all(0)\n",
    "    \n",
    "    model = LinRegGuide(D)\n",
    "\n",
    "    target = lambda w: model.mh_target(X, y, w)\n",
    "    proposal = lambda w: w + proposal_std*torch.randn(D)\n",
    "\n",
    "    x0 = torch.zeros(D)\n",
    "    \n",
    "    xs = mhsample(x0, ITERS, target, proposal)\n",
    "    \n",
    "    # Discard the first half of samples as warm-up\n",
    "    xs = xs[:, xs.shape[1]//2:]\n",
    "    xs = pd.DataFrame(xs.numpy().T)\n",
    "\n",
    "    w_hat = xs.mean().values\n",
    "    RMSE = np.sqrt(((w_hat - w_true.numpy())**2).mean())\n",
    "    return RMSE, ITERS\n",
    "\n",
    "def run_variational_inference(EPOCHS):\n",
    "    seed_all(0)\n",
    "    model = LinRegGuide(D)\n",
    "    criterion = Elbo(model)\n",
    "    opt = optim.SGD(model.parameters(), lr=1e-5, momentum=0.9)\n",
    "\n",
    "    for epoch in range(EPOCHS):\n",
    "        opt.zero_grad()\n",
    "        output = model(X)\n",
    "        loss = criterion(output, y)\n",
    "        loss.backward()\n",
    "        opt.step()\n",
    "\n",
    "        if epoch % 10 == 0:\n",
    "            print(epoch, loss.item())\n",
    "            \n",
    "    w_hat = model.mu.squeeze().detach().numpy()\n",
    "    RMSE = np.sqrt(((w_hat - w_true.numpy())**2).mean())\n",
    "    return RMSE, EPOCHS"
   ]
  },
  {
   "cell_type": "markdown",
   "metadata": {},
   "source": [
    "By decorating with the map=True flag, the function now accepts a list of values. If we set background=True, the function will run in the background. This is useful if we want to do work in other cells while the job is running. Notice how the functions parallelize in the presence of globally defined variables and functions (something ipyparallel doesn't do)"
   ]
  },
  {
   "cell_type": "code",
   "execution_count": 14,
   "metadata": {},
   "outputs": [
    {
     "data": {
      "application/vnd.jupyter.widget-view+json": {
       "model_id": "18841a1065eb497f85ee963d47cc1d9c",
       "version_major": 2,
       "version_minor": 0
      },
      "text/plain": [
       "HBox(children=(IntProgress(value=0, max=9), HTML(value='')))"
      ]
     },
     "metadata": {},
     "output_type": "display_data"
    },
    {
     "name": "stdout",
     "output_type": "stream",
     "text": [
      "\n"
     ]
    }
   ],
   "source": [
    "mh_results = run_metropolis_hastings(range(2000, 20000, 2000))"
   ]
  },
  {
   "cell_type": "code",
   "execution_count": 15,
   "metadata": {},
   "outputs": [
    {
     "name": "stdout",
     "output_type": "stream",
     "text": [
      "0 109298.5703125\n",
      "0 109298.5703125\n",
      "10 27935.458984375\n",
      "0 109298.5703125\n",
      "10 27935.458984375\n",
      "20 2408.353515625\n",
      "0 109298.5703125\n",
      "10 27935.458984375\n",
      "20 2408.353515625\n",
      "30 3057.296875\n",
      "0 109298.5703125\n",
      "10 27935.458984375\n",
      "20 2408.353515625\n",
      "30 3057.296875\n",
      "40 3071.631591796875\n",
      "0 109298.5703125\n",
      "10 27935.458984375\n",
      "20 2408.353515625\n",
      "30 3057.296875\n",
      "40 3071.631591796875\n",
      "50 1696.128173828125\n",
      "0 109298.5703125\n",
      "10 27935.458984375\n",
      "20 2408.353515625\n",
      "30 3057.296875\n",
      "40 3071.631591796875\n",
      "50 1696.128173828125\n",
      "60 1527.938232421875\n",
      "0 109298.5703125\n",
      "10 27935.458984375\n",
      "20 2408.353515625\n",
      "30 3057.296875\n",
      "40 3071.631591796875\n",
      "50 1696.128173828125\n",
      "60 1527.938232421875\n",
      "70 1543.9149169921875\n",
      "0 109298.5703125\n",
      "10 27935.458984375\n",
      "20 2408.353515625\n",
      "30 3057.296875\n",
      "40 3071.631591796875\n",
      "50 1696.128173828125\n",
      "60 1527.938232421875\n",
      "70 1543.9149169921875\n",
      "80 1573.55859375\n",
      "0 109298.5703125\n",
      "10 27935.458984375\n",
      "20 2408.353515625\n",
      "30 3057.296875\n",
      "40 3071.631591796875\n",
      "50 1696.128173828125\n",
      "60 1527.938232421875\n",
      "70 1543.9149169921875\n",
      "80 1573.55859375\n",
      "90 1533.380615234375\n"
     ]
    }
   ],
   "source": [
    "vi_results = [run_variational_inference(i) for i in range(1, 100, 10)]"
   ]
  },
  {
   "cell_type": "code",
   "execution_count": 16,
   "metadata": {},
   "outputs": [
    {
     "data": {
      "text/plain": [
       "<matplotlib.axes._subplots.AxesSubplot at 0x121198dd8>"
      ]
     },
     "execution_count": 16,
     "metadata": {},
     "output_type": "execute_result"
    },
    {
     "data": {
      "image/png": "[encoded data removed]",
      "text/plain": [
       "<Figure size 432x288 with 1 Axes>"
      ]
     },
     "metadata": {
      "needs_background": "light"
     },
     "output_type": "display_data"
    }
   ],
   "source": [
    "pd.DataFrame(mh_results, columns=['MH accuracy', 'epoch']).set_index('epoch').sort_index().plot()"
   ]
  },
  {
   "cell_type": "code",
   "execution_count": 17,
   "metadata": {},
   "outputs": [
    {
     "data": {
      "text/plain": [
       "<matplotlib.axes._subplots.AxesSubplot at 0x12155c278>"
      ]
     },
     "execution_count": 17,
     "metadata": {},
     "output_type": "execute_result"
    },
    {
     "data": {
      "image/png": "[encoded data removed]",
      "text/plain": [
       "<Figure size 432x288 with 1 Axes>"
      ]
     },
     "metadata": {
      "needs_background": "light"
     },
     "output_type": "display_data"
    }
   ],
   "source": [
    "pd.DataFrame(vi_results, columns=['VI accuracy', 'epoch']).set_index('epoch').sort_index().plot()"
   ]
  }
 ],
 "metadata": {
  "hide_code_all_hidden": false,
  "kernelspec": {
   "display_name": "Python 3",
   "language": "python",
   "name": "python3"
  },
  "language_info": {
   "codemirror_mode": {
    "name": "ipython",
    "version": 3
   },
   "file_extension": ".py",
   "mimetype": "text/x-python",
   "name": "python",
   "nbconvert_exporter": "python",
   "pygments_lexer": "ipython3",
   "version": "3.6.5"
  }
 },
 "nbformat": 4,
 "nbformat_minor": 2
}
